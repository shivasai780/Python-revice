{
 "cells": [
  {
   "cell_type": "code",
   "execution_count": 2,
   "metadata": {},
   "outputs": [
    {
     "name": "stdout",
     "output_type": "stream",
     "text": [
      "25\n",
      "50\n"
     ]
    }
   ],
   "source": [
    "x = 25\n",
    "\n",
    "def printer():\n",
    "    x = 50\n",
    "    return x\n",
    "\n",
    "print (x)#Global scope\n",
    "print (printer())#local scope"
   ]
  },
  {
   "cell_type": "code",
   "execution_count": 3,
   "metadata": {},
   "outputs": [],
   "source": [
    "#The idea of scope can be described by 3 general rules"
   ]
  },
  {
   "cell_type": "code",
   "execution_count": 4,
   "metadata": {},
   "outputs": [],
   "source": [
    "#1.Name assignments will create or change local names by default."
   ]
  },
  {
   "cell_type": "code",
   "execution_count": 5,
   "metadata": {},
   "outputs": [],
   "source": [
    "#Name references search (at most) four scopes, these are:\n",
    "#--->local\n",
    "#--->enclosing functions\n",
    "#--->global\n",
    "#--->built-in\n",
    "#The statement above is defined by LEGB rule"
   ]
  },
  {
   "cell_type": "code",
   "execution_count": 6,
   "metadata": {},
   "outputs": [
    {
     "data": {
      "text/plain": [
       "'\\nL: Local — Names assigned in any way within a function (def or lambda)), and not declared global in that function.\\n\\nE: Enclosing function locals — Name in the local scope of any and all enclosing functions (def or lambda), from inner to outer.\\n\\nG: Global (module) — Names assigned at the top-level of a module file, or declared global in a def within the file.\\n\\nB: Built-in (Python) — Names preassigned in the built-in names module : open,range,SyntaxError,.\\n\\n'"
      ]
     },
     "execution_count": 6,
     "metadata": {},
     "output_type": "execute_result"
    }
   ],
   "source": [
    "\"\"\"\n",
    "L: Local — Names assigned in any way within a function (def or lambda)), and not declared global in that function.\n",
    "\n",
    "E: Enclosing function locals — Name in the local scope of any and all enclosing functions (def or lambda), from inner to outer.\n",
    "\n",
    "G: Global (module) — Names assigned at the top-level of a module file, or declared global in a def within the file.\n",
    "\n",
    "B: Built-in (Python) — Names preassigned in the built-in names module : open,range,SyntaxError,.\n",
    "\n",
    "\"\"\""
   ]
  },
  {
   "cell_type": "code",
   "execution_count": 7,
   "metadata": {},
   "outputs": [],
   "source": [
    "#Local"
   ]
  },
  {
   "cell_type": "code",
   "execution_count": 8,
   "metadata": {},
   "outputs": [],
   "source": [
    "#x is local here\n",
    "f=lambda x:x**2"
   ]
  },
  {
   "cell_type": "code",
   "execution_count": 9,
   "metadata": {},
   "outputs": [],
   "source": [
    "#Enclosing function locals"
   ]
  },
  {
   "cell_type": "code",
   "execution_count": 10,
   "metadata": {},
   "outputs": [],
   "source": [
    "#This occurs when we have a fucntion inside a function"
   ]
  },
  {
   "cell_type": "code",
   "execution_count": 14,
   "metadata": {},
   "outputs": [
    {
     "name": "stdout",
     "output_type": "stream",
     "text": [
      "Hello sammy\n"
     ]
    }
   ],
   "source": [
    "name =\"This is a global name\"\n",
    "def greet():\n",
    "    #Enclosing function\n",
    "    name=\"sammy\"\n",
    "    def hello():\n",
    "        print (\"Hello \"+ name)\n",
    "    hello()\n",
    "greet()"
   ]
  },
  {
   "cell_type": "code",
   "execution_count": 16,
   "metadata": {},
   "outputs": [
    {
     "name": "stdout",
     "output_type": "stream",
     "text": [
      "This is a global name\n"
     ]
    }
   ],
   "source": [
    "print (name)#This is global "
   ]
  },
  {
   "cell_type": "code",
   "execution_count": 17,
   "metadata": {},
   "outputs": [],
   "source": [
    "#Built in"
   ]
  },
  {
   "cell_type": "code",
   "execution_count": 18,
   "metadata": {},
   "outputs": [
    {
     "data": {
      "text/plain": [
       "<function len(obj, /)>"
      ]
     },
     "execution_count": 18,
     "metadata": {},
     "output_type": "execute_result"
    }
   ],
   "source": [
    "len"
   ]
  },
  {
   "cell_type": "code",
   "execution_count": 19,
   "metadata": {},
   "outputs": [],
   "source": [
    "# All variables have the scope of the block they are declared in starting from the point of definition of the name."
   ]
  },
  {
   "cell_type": "code",
   "execution_count": 21,
   "metadata": {},
   "outputs": [
    {
     "name": "stdout",
     "output_type": "stream",
     "text": [
      "Before calling func(), x is:  50\n",
      "This function is now using the global x!\n",
      "Because of global x is:  50\n",
      "Ran func(), changed global x to 2\n",
      "Value of x (outside of func()) is:  2\n"
     ]
    }
   ],
   "source": [
    "x = 50\n",
    "\n",
    "def func():\n",
    "    global x\n",
    "    print ('This function is now using the global x!')\n",
    "    print ('Because of global x is: ', x)\n",
    "    x = 2\n",
    "    print ('Ran func(), changed global x to', x)\n",
    "\n",
    "print ('Before calling func(), x is: ', x)\n",
    "func()\n",
    "print ('Value of x (outside of func()) is: ', x)"
   ]
  },
  {
   "cell_type": "code",
   "execution_count": 23,
   "metadata": {},
   "outputs": [],
   "source": [
    "s=globals()"
   ]
  },
  {
   "cell_type": "code",
   "execution_count": 24,
   "metadata": {},
   "outputs": [
    {
     "ename": "AttributeError",
     "evalue": "'dict' object has no attribute 'x'",
     "output_type": "error",
     "traceback": [
      "\u001b[1;31m---------------------------------------------------------------------------\u001b[0m",
      "\u001b[1;31mAttributeError\u001b[0m                            Traceback (most recent call last)",
      "\u001b[1;32m<ipython-input-24-a903ec6b4f78>\u001b[0m in \u001b[0;36m<module>\u001b[1;34m\u001b[0m\n\u001b[1;32m----> 1\u001b[1;33m \u001b[0ms\u001b[0m\u001b[1;33m.\u001b[0m\u001b[0mx\u001b[0m\u001b[1;33m\u001b[0m\u001b[1;33m\u001b[0m\u001b[0m\n\u001b[0m",
      "\u001b[1;31mAttributeError\u001b[0m: 'dict' object has no attribute 'x'"
     ]
    }
   ],
   "source": [
    "s.x"
   ]
  },
  {
   "cell_type": "code",
   "execution_count": 25,
   "metadata": {},
   "outputs": [
    {
     "data": {
      "text/plain": [
       "{'__name__': '__main__',\n",
       " '__doc__': 'Automatically created module for IPython interactive environment',\n",
       " '__package__': None,\n",
       " '__loader__': None,\n",
       " '__spec__': None,\n",
       " '__builtin__': <module 'builtins' (built-in)>,\n",
       " '__builtins__': <module 'builtins' (built-in)>,\n",
       " '_ih': ['',\n",
       "  'x = 25\\n\\ndef printer():\\n    x = 50\\n    return x\\n\\nprint x\\nprint printer()',\n",
       "  'x = 25\\n\\ndef printer():\\n    x = 50\\n    return x\\n\\nprint (x)\\nprint (printer())',\n",
       "  '#The idea of scope can be described by 3 general rules',\n",
       "  '#1.Name assignments will create or change local names by default.',\n",
       "  '#Name references search (at most) four scopes, these are:\\n#--->local\\n#--->enclosing functions\\n#--->global\\n#--->built-in\\n#The statement above is defined by LEGB rule',\n",
       "  '\"\"\"\\nL: Local — Names assigned in any way within a function (def or lambda)), and not declared global in that function.\\n\\nE: Enclosing function locals — Name in the local scope of any and all enclosing functions (def or lambda), from inner to outer.\\n\\nG: Global (module) — Names assigned at the top-level of a module file, or declared global in a def within the file.\\n\\nB: Built-in (Python) — Names preassigned in the built-in names module : open,range,SyntaxError,.\\n\\n\"\"\"',\n",
       "  '#Local',\n",
       "  '#x is local here\\nf=lambda x:x**2',\n",
       "  '#Enclosing function locals',\n",
       "  '#This occurs when we have a fucntion inside a function',\n",
       "  'name =\"This is a global name\"\\ndef greet():\\n    #Enclosing function\\n    name=\"sammy\"\\n    def hello():\\n        print \"Hello\"+name\\n    hello()\\ngreet()',\n",
       "  'name =\"This is a global name\"\\ndef greet():\\n    #Enclosing function\\n    name=\"sammy\"\\n    def hello():\\n        print (\"Hello\"+name)\\n    hello()\\ngreet()',\n",
       "  'name =\"This is a global name\"\\ndef greet():\\n    #Enclosing function\\n    name=\"sammy\"\\n    def hello():\\n        print (\"Hello\"+ name)\\n    hello()\\ngreet()',\n",
       "  'name =\"This is a global name\"\\ndef greet():\\n    #Enclosing function\\n    name=\"sammy\"\\n    def hello():\\n        print (\"Hello \"+ name)\\n    hello()\\ngreet()',\n",
       "  'print (name)',\n",
       "  'print (name)#This is global ',\n",
       "  '#Built in',\n",
       "  'len',\n",
       "  '# All variables have the scope of the block they are declared in starting from the point of definition of the name.',\n",
       "  \"x = 50\\n\\ndef func():\\n    global x\\n    print 'This function is now using the global x!'\\n    print 'Because of global x is: ', x\\n    x = 2\\n    print 'Ran func(), changed global x to', x\\n\\nprint 'Before calling func(), x is: ', x\\nfunc()\\nprint 'Value of x (outside of func()) is: ', x\",\n",
       "  \"x = 50\\n\\ndef func():\\n    global x\\n    print ('This function is now using the global x!')\\n    print ('Because of global x is: ', x)\\n    x = 2\\n    print ('Ran func(), changed global x to', x)\\n\\nprint ('Before calling func(), x is: ', x)\\nfunc()\\nprint ('Value of x (outside of func()) is: ', x)\",\n",
       "  'globals()',\n",
       "  's=globals()',\n",
       "  's.x',\n",
       "  'globals()'],\n",
       " '_oh': {6: '\\nL: Local — Names assigned in any way within a function (def or lambda)), and not declared global in that function.\\n\\nE: Enclosing function locals — Name in the local scope of any and all enclosing functions (def or lambda), from inner to outer.\\n\\nG: Global (module) — Names assigned at the top-level of a module file, or declared global in a def within the file.\\n\\nB: Built-in (Python) — Names preassigned in the built-in names module : open,range,SyntaxError,.\\n\\n',\n",
       "  18: <function len(obj, /)>,\n",
       "  22: {...}},\n",
       " '_dh': ['C:\\\\Users\\\\shiva\\\\Documents\\\\Python-revice'],\n",
       " 'In': ['',\n",
       "  'x = 25\\n\\ndef printer():\\n    x = 50\\n    return x\\n\\nprint x\\nprint printer()',\n",
       "  'x = 25\\n\\ndef printer():\\n    x = 50\\n    return x\\n\\nprint (x)\\nprint (printer())',\n",
       "  '#The idea of scope can be described by 3 general rules',\n",
       "  '#1.Name assignments will create or change local names by default.',\n",
       "  '#Name references search (at most) four scopes, these are:\\n#--->local\\n#--->enclosing functions\\n#--->global\\n#--->built-in\\n#The statement above is defined by LEGB rule',\n",
       "  '\"\"\"\\nL: Local — Names assigned in any way within a function (def or lambda)), and not declared global in that function.\\n\\nE: Enclosing function locals — Name in the local scope of any and all enclosing functions (def or lambda), from inner to outer.\\n\\nG: Global (module) — Names assigned at the top-level of a module file, or declared global in a def within the file.\\n\\nB: Built-in (Python) — Names preassigned in the built-in names module : open,range,SyntaxError,.\\n\\n\"\"\"',\n",
       "  '#Local',\n",
       "  '#x is local here\\nf=lambda x:x**2',\n",
       "  '#Enclosing function locals',\n",
       "  '#This occurs when we have a fucntion inside a function',\n",
       "  'name =\"This is a global name\"\\ndef greet():\\n    #Enclosing function\\n    name=\"sammy\"\\n    def hello():\\n        print \"Hello\"+name\\n    hello()\\ngreet()',\n",
       "  'name =\"This is a global name\"\\ndef greet():\\n    #Enclosing function\\n    name=\"sammy\"\\n    def hello():\\n        print (\"Hello\"+name)\\n    hello()\\ngreet()',\n",
       "  'name =\"This is a global name\"\\ndef greet():\\n    #Enclosing function\\n    name=\"sammy\"\\n    def hello():\\n        print (\"Hello\"+ name)\\n    hello()\\ngreet()',\n",
       "  'name =\"This is a global name\"\\ndef greet():\\n    #Enclosing function\\n    name=\"sammy\"\\n    def hello():\\n        print (\"Hello \"+ name)\\n    hello()\\ngreet()',\n",
       "  'print (name)',\n",
       "  'print (name)#This is global ',\n",
       "  '#Built in',\n",
       "  'len',\n",
       "  '# All variables have the scope of the block they are declared in starting from the point of definition of the name.',\n",
       "  \"x = 50\\n\\ndef func():\\n    global x\\n    print 'This function is now using the global x!'\\n    print 'Because of global x is: ', x\\n    x = 2\\n    print 'Ran func(), changed global x to', x\\n\\nprint 'Before calling func(), x is: ', x\\nfunc()\\nprint 'Value of x (outside of func()) is: ', x\",\n",
       "  \"x = 50\\n\\ndef func():\\n    global x\\n    print ('This function is now using the global x!')\\n    print ('Because of global x is: ', x)\\n    x = 2\\n    print ('Ran func(), changed global x to', x)\\n\\nprint ('Before calling func(), x is: ', x)\\nfunc()\\nprint ('Value of x (outside of func()) is: ', x)\",\n",
       "  'globals()',\n",
       "  's=globals()',\n",
       "  's.x',\n",
       "  'globals()'],\n",
       " 'Out': {6: '\\nL: Local — Names assigned in any way within a function (def or lambda)), and not declared global in that function.\\n\\nE: Enclosing function locals — Name in the local scope of any and all enclosing functions (def or lambda), from inner to outer.\\n\\nG: Global (module) — Names assigned at the top-level of a module file, or declared global in a def within the file.\\n\\nB: Built-in (Python) — Names preassigned in the built-in names module : open,range,SyntaxError,.\\n\\n',\n",
       "  18: <function len(obj, /)>,\n",
       "  22: {...}},\n",
       " 'get_ipython': <bound method InteractiveShell.get_ipython of <ipykernel.zmqshell.ZMQInteractiveShell object at 0x00000269F5657880>>,\n",
       " 'exit': <IPython.core.autocall.ZMQExitAutocall at 0x269f56c56a0>,\n",
       " 'quit': <IPython.core.autocall.ZMQExitAutocall at 0x269f56c56a0>,\n",
       " '_': {...},\n",
       " '__': <function len(obj, /)>,\n",
       " '___': '\\nL: Local — Names assigned in any way within a function (def or lambda)), and not declared global in that function.\\n\\nE: Enclosing function locals — Name in the local scope of any and all enclosing functions (def or lambda), from inner to outer.\\n\\nG: Global (module) — Names assigned at the top-level of a module file, or declared global in a def within the file.\\n\\nB: Built-in (Python) — Names preassigned in the built-in names module : open,range,SyntaxError,.\\n\\n',\n",
       " '_i': 's.x',\n",
       " '_ii': 's=globals()',\n",
       " '_iii': 'globals()',\n",
       " '_i1': 'x = 25\\n\\ndef printer():\\n    x = 50\\n    return x\\n\\nprint x\\nprint printer()',\n",
       " '_i2': 'x = 25\\n\\ndef printer():\\n    x = 50\\n    return x\\n\\nprint (x)\\nprint (printer())',\n",
       " 'x': 2,\n",
       " 'printer': <function __main__.printer()>,\n",
       " '_i3': '#The idea of scope can be described by 3 general rules',\n",
       " '_i4': '#1.Name assignments will create or change local names by default.',\n",
       " '_i5': '#Name references search (at most) four scopes, these are:\\n#--->local\\n#--->enclosing functions\\n#--->global\\n#--->built-in\\n#The statement above is defined by LEGB rule',\n",
       " '_i6': '\"\"\"\\nL: Local — Names assigned in any way within a function (def or lambda)), and not declared global in that function.\\n\\nE: Enclosing function locals — Name in the local scope of any and all enclosing functions (def or lambda), from inner to outer.\\n\\nG: Global (module) — Names assigned at the top-level of a module file, or declared global in a def within the file.\\n\\nB: Built-in (Python) — Names preassigned in the built-in names module : open,range,SyntaxError,.\\n\\n\"\"\"',\n",
       " '_6': '\\nL: Local — Names assigned in any way within a function (def or lambda)), and not declared global in that function.\\n\\nE: Enclosing function locals — Name in the local scope of any and all enclosing functions (def or lambda), from inner to outer.\\n\\nG: Global (module) — Names assigned at the top-level of a module file, or declared global in a def within the file.\\n\\nB: Built-in (Python) — Names preassigned in the built-in names module : open,range,SyntaxError,.\\n\\n',\n",
       " '_i7': '#Local',\n",
       " '_i8': '#x is local here\\nf=lambda x:x**2',\n",
       " 'f': <function __main__.<lambda>(x)>,\n",
       " '_i9': '#Enclosing function locals',\n",
       " '_i10': '#This occurs when we have a fucntion inside a function',\n",
       " '_i11': 'name =\"This is a global name\"\\ndef greet():\\n    #Enclosing function\\n    name=\"sammy\"\\n    def hello():\\n        print \"Hello\"+name\\n    hello()\\ngreet()',\n",
       " '_i12': 'name =\"This is a global name\"\\ndef greet():\\n    #Enclosing function\\n    name=\"sammy\"\\n    def hello():\\n        print (\"Hello\"+name)\\n    hello()\\ngreet()',\n",
       " 'name': 'This is a global name',\n",
       " 'greet': <function __main__.greet()>,\n",
       " '_i13': 'name =\"This is a global name\"\\ndef greet():\\n    #Enclosing function\\n    name=\"sammy\"\\n    def hello():\\n        print (\"Hello\"+ name)\\n    hello()\\ngreet()',\n",
       " '_i14': 'name =\"This is a global name\"\\ndef greet():\\n    #Enclosing function\\n    name=\"sammy\"\\n    def hello():\\n        print (\"Hello \"+ name)\\n    hello()\\ngreet()',\n",
       " '_i15': 'print (name)',\n",
       " '_i16': 'print (name)#This is global ',\n",
       " '_i17': '#Built in',\n",
       " '_i18': 'len',\n",
       " '_18': <function len(obj, /)>,\n",
       " '_i19': '# All variables have the scope of the block they are declared in starting from the point of definition of the name.',\n",
       " '_i20': \"x = 50\\n\\ndef func():\\n    global x\\n    print 'This function is now using the global x!'\\n    print 'Because of global x is: ', x\\n    x = 2\\n    print 'Ran func(), changed global x to', x\\n\\nprint 'Before calling func(), x is: ', x\\nfunc()\\nprint 'Value of x (outside of func()) is: ', x\",\n",
       " '_i21': \"x = 50\\n\\ndef func():\\n    global x\\n    print ('This function is now using the global x!')\\n    print ('Because of global x is: ', x)\\n    x = 2\\n    print ('Ran func(), changed global x to', x)\\n\\nprint ('Before calling func(), x is: ', x)\\nfunc()\\nprint ('Value of x (outside of func()) is: ', x)\",\n",
       " 'func': <function __main__.func()>,\n",
       " '_i22': 'globals()',\n",
       " '_22': {...},\n",
       " '_i23': 's=globals()',\n",
       " 's': {...},\n",
       " '_i24': 's.x',\n",
       " '_i25': 'globals()'}"
      ]
     },
     "execution_count": 25,
     "metadata": {},
     "output_type": "execute_result"
    }
   ],
   "source": [
    "globals()"
   ]
  },
  {
   "cell_type": "code",
   "execution_count": 1,
   "metadata": {},
   "outputs": [],
   "source": [
    "#error handling\n",
    "def Call():\n",
    "    while True:\n",
    "        try:\n",
    "            num=int(input(\"Enter the number:\"))\n",
    "        except:\n",
    "            print(\"Enter the integer\")\n",
    "            continue\n",
    "        else:\n",
    "            print(\"Finally entered an integer\")\n",
    "            break\n",
    "        finally:\n",
    "            print(\"Finally i runned it\")\n",
    "            "
   ]
  },
  {
   "cell_type": "code",
   "execution_count": 2,
   "metadata": {},
   "outputs": [
    {
     "name": "stdout",
     "output_type": "stream",
     "text": [
      "Enter the number:five\n",
      "Enter the integer\n",
      "Finally i runned it\n",
      "Enter the number:five\n",
      "Enter the integer\n",
      "Finally i runned it\n",
      "Enter the number:1\n",
      "Finally entered an integer\n",
      "Finally i runned it\n"
     ]
    }
   ],
   "source": [
    "Call()"
   ]
  },
  {
   "cell_type": "code",
   "execution_count": 1,
   "metadata": {},
   "outputs": [
    {
     "ename": "ModuleNotFoundError",
     "evalue": "No module named 'modulee'",
     "output_type": "error",
     "traceback": [
      "\u001b[1;31m---------------------------------------------------------------------------\u001b[0m",
      "\u001b[1;31mModuleNotFoundError\u001b[0m                       Traceback (most recent call last)",
      "\u001b[1;32m<ipython-input-1-f0ccc2bb49b3>\u001b[0m in \u001b[0;36m<module>\u001b[1;34m\u001b[0m\n\u001b[1;32m----> 1\u001b[1;33m \u001b[1;32mimport\u001b[0m \u001b[0mmodulee\u001b[0m\u001b[1;33m\u001b[0m\u001b[1;33m\u001b[0m\u001b[0m\n\u001b[0m\u001b[0;32m      2\u001b[0m \u001b[0ms\u001b[0m\u001b[1;33m=\u001b[0m\u001b[0mmodulee\u001b[0m\u001b[1;33m.\u001b[0m\u001b[0madd\u001b[0m\u001b[1;33m(\u001b[0m\u001b[1;36m1\u001b[0m\u001b[1;33m,\u001b[0m\u001b[1;36m2\u001b[0m\u001b[1;33m)\u001b[0m\u001b[1;33m\u001b[0m\u001b[1;33m\u001b[0m\u001b[0m\n\u001b[0;32m      3\u001b[0m \u001b[0mprint\u001b[0m\u001b[1;33m(\u001b[0m\u001b[0ms\u001b[0m\u001b[1;33m)\u001b[0m\u001b[1;33m\u001b[0m\u001b[1;33m\u001b[0m\u001b[0m\n",
      "\u001b[1;31mModuleNotFoundError\u001b[0m: No module named 'modulee'"
     ]
    }
   ],
   "source": [
    "import modulee\n",
    "s=modulee.add(1,2)\n",
    "print(s)"
   ]
  },
  {
   "cell_type": "code",
   "execution_count": 1,
   "metadata": {},
   "outputs": [
    {
     "ename": "ModuleNotFoundError",
     "evalue": "No module named 'Mymodule'",
     "output_type": "error",
     "traceback": [
      "\u001b[1;31m---------------------------------------------------------------------------\u001b[0m",
      "\u001b[1;31mModuleNotFoundError\u001b[0m                       Traceback (most recent call last)",
      "\u001b[1;32m<ipython-input-1-92b27dfc3196>\u001b[0m in \u001b[0;36m<module>\u001b[1;34m\u001b[0m\n\u001b[1;32m----> 1\u001b[1;33m \u001b[1;32mimport\u001b[0m \u001b[0mMymodule\u001b[0m\u001b[1;33m.\u001b[0m\u001b[0mipynb\u001b[0m\u001b[1;33m\u001b[0m\u001b[1;33m\u001b[0m\u001b[0m\n\u001b[0m",
      "\u001b[1;31mModuleNotFoundError\u001b[0m: No module named 'Mymodule'"
     ]
    }
   ],
   "source": [
    "import Mymodule.ipynb"
   ]
  },
  {
   "cell_type": "code",
   "execution_count": 3,
   "metadata": {},
   "outputs": [
    {
     "ename": "NameError",
     "evalue": "name 'null' is not defined",
     "output_type": "error",
     "traceback": [
      "\u001b[1;31m---------------------------------------------------------------------------\u001b[0m",
      "\u001b[1;31mNameError\u001b[0m                                 Traceback (most recent call last)",
      "\u001b[1;32m<ipython-input-3-3a4433223377>\u001b[0m in \u001b[0;36m<module>\u001b[1;34m\u001b[0m\n\u001b[1;32m----> 1\u001b[1;33m \u001b[1;32mimport\u001b[0m \u001b[0mMymodule\u001b[0m\u001b[1;33m\u001b[0m\u001b[1;33m\u001b[0m\u001b[0m\n\u001b[0m",
      "\u001b[1;32m~\\Documents\\Python-revice\\Mymodule.py\u001b[0m in \u001b[0;36m<module>\u001b[1;34m\u001b[0m\n\u001b[0;32m     12\u001b[0m   {\n\u001b[0;32m     13\u001b[0m    \u001b[1;34m\"cell_type\"\u001b[0m\u001b[1;33m:\u001b[0m \u001b[1;34m\"code\"\u001b[0m\u001b[1;33m,\u001b[0m\u001b[1;33m\u001b[0m\u001b[1;33m\u001b[0m\u001b[0m\n\u001b[1;32m---> 14\u001b[1;33m    \u001b[1;34m\"execution_count\"\u001b[0m\u001b[1;33m:\u001b[0m \u001b[0mnull\u001b[0m\u001b[1;33m,\u001b[0m\u001b[1;33m\u001b[0m\u001b[1;33m\u001b[0m\u001b[0m\n\u001b[0m\u001b[0;32m     15\u001b[0m    \u001b[1;34m\"metadata\"\u001b[0m\u001b[1;33m:\u001b[0m \u001b[1;33m{\u001b[0m\u001b[1;33m}\u001b[0m\u001b[1;33m,\u001b[0m\u001b[1;33m\u001b[0m\u001b[1;33m\u001b[0m\u001b[0m\n\u001b[0;32m     16\u001b[0m    \u001b[1;34m\"outputs\"\u001b[0m\u001b[1;33m:\u001b[0m \u001b[1;33m[\u001b[0m\u001b[1;33m]\u001b[0m\u001b[1;33m,\u001b[0m\u001b[1;33m\u001b[0m\u001b[1;33m\u001b[0m\u001b[0m\n",
      "\u001b[1;31mNameError\u001b[0m: name 'null' is not defined"
     ]
    }
   ],
   "source": [
    "import Mymodule"
   ]
  },
  {
   "cell_type": "code",
   "execution_count": 1,
   "metadata": {},
   "outputs": [
    {
     "ename": "NameError",
     "evalue": "name 'null' is not defined",
     "output_type": "error",
     "traceback": [
      "\u001b[1;31m---------------------------------------------------------------------------\u001b[0m",
      "\u001b[1;31mNameError\u001b[0m                                 Traceback (most recent call last)",
      "\u001b[1;32m<ipython-input-1-3a4433223377>\u001b[0m in \u001b[0;36m<module>\u001b[1;34m\u001b[0m\n\u001b[1;32m----> 1\u001b[1;33m \u001b[1;32mimport\u001b[0m \u001b[0mMymodule\u001b[0m\u001b[1;33m\u001b[0m\u001b[1;33m\u001b[0m\u001b[0m\n\u001b[0m",
      "\u001b[1;32m~\\Documents\\Python-revice\\Mymodule.py\u001b[0m in \u001b[0;36m<module>\u001b[1;34m\u001b[0m\n\u001b[0;32m     12\u001b[0m   {\n\u001b[0;32m     13\u001b[0m    \u001b[1;34m\"cell_type\"\u001b[0m\u001b[1;33m:\u001b[0m \u001b[1;34m\"code\"\u001b[0m\u001b[1;33m,\u001b[0m\u001b[1;33m\u001b[0m\u001b[1;33m\u001b[0m\u001b[0m\n\u001b[1;32m---> 14\u001b[1;33m    \u001b[1;34m\"execution_count\"\u001b[0m\u001b[1;33m:\u001b[0m \u001b[0mnull\u001b[0m\u001b[1;33m,\u001b[0m\u001b[1;33m\u001b[0m\u001b[1;33m\u001b[0m\u001b[0m\n\u001b[0m\u001b[0;32m     15\u001b[0m    \u001b[1;34m\"metadata\"\u001b[0m\u001b[1;33m:\u001b[0m \u001b[1;33m{\u001b[0m\u001b[1;33m}\u001b[0m\u001b[1;33m,\u001b[0m\u001b[1;33m\u001b[0m\u001b[1;33m\u001b[0m\u001b[0m\n\u001b[0;32m     16\u001b[0m    \u001b[1;34m\"outputs\"\u001b[0m\u001b[1;33m:\u001b[0m \u001b[1;33m[\u001b[0m\u001b[1;33m]\u001b[0m\u001b[1;33m,\u001b[0m\u001b[1;33m\u001b[0m\u001b[1;33m\u001b[0m\u001b[0m\n",
      "\u001b[1;31mNameError\u001b[0m: name 'null' is not defined"
     ]
    }
   ],
   "source": [
    "import Mymodule"
   ]
  },
  {
   "cell_type": "code",
   "execution_count": null,
   "metadata": {},
   "outputs": [],
   "source": []
  }
 ],
 "metadata": {
  "kernelspec": {
   "display_name": "Python 3",
   "language": "python",
   "name": "python3"
  },
  "language_info": {
   "codemirror_mode": {
    "name": "ipython",
    "version": 3
   },
   "file_extension": ".py",
   "mimetype": "text/x-python",
   "name": "python",
   "nbconvert_exporter": "python",
   "pygments_lexer": "ipython3",
   "version": "3.8.5"
  }
 },
 "nbformat": 4,
 "nbformat_minor": 4
}
